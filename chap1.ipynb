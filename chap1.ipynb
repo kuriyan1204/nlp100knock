{
 "cells": [
  {
   "cell_type": "markdown",
   "id": "a9117d37-5bac-450e-b1aa-8df6c81ca7ee",
   "metadata": {},
   "source": [
    "# Chapter 1: Warm-up"
   ]
  },
  {
   "cell_type": "markdown",
   "id": "660e67ad-8102-4b35-82d3-d49c53091f3c",
   "metadata": {},
   "source": [
    "## 00"
   ]
  },
  {
   "cell_type": "code",
   "execution_count": 4,
   "id": "298cd318-a013-45f4-ac2c-a5c26d8a42bb",
   "metadata": {},
   "outputs": [
    {
     "data": {
      "text/plain": [
       "'desserts'"
      ]
     },
     "execution_count": 4,
     "metadata": {},
     "output_type": "execute_result"
    }
   ],
   "source": [
    "string = \"stressed\"\n",
    "reved = string[::-1]\n",
    "reved"
   ]
  },
  {
   "cell_type": "markdown",
   "id": "1dd27a17-851a-4bc9-9728-f4173c3a60cb",
   "metadata": {},
   "source": [
    "## 01"
   ]
  },
  {
   "cell_type": "code",
   "execution_count": 6,
   "id": "c7c29ead-25da-4293-b055-fc6af91c40c7",
   "metadata": {},
   "outputs": [
    {
     "data": {
      "text/plain": [
       "'パトカー'"
      ]
     },
     "execution_count": 6,
     "metadata": {},
     "output_type": "execute_result"
    }
   ],
   "source": [
    "string = \"パタトクカシーー\"\n",
    "string[::2]"
   ]
  },
  {
   "cell_type": "markdown",
   "id": "f935dfc0-d926-4939-bbad-87af03d834cb",
   "metadata": {},
   "source": [
    "## 02"
   ]
  },
  {
   "cell_type": "code",
   "execution_count": 8,
   "id": "7cc96276-e77f-46f5-a2b5-ef41d8ac25b7",
   "metadata": {},
   "outputs": [
    {
     "data": {
      "text/plain": [
       "'パタトクカシーー'"
      ]
     },
     "execution_count": 8,
     "metadata": {},
     "output_type": "execute_result"
    }
   ],
   "source": [
    "str1 = \"パトカー\"\n",
    "str2 = \"タクシー\"\n",
    "cat = \"\".join([str1[i]+str2[i] for i in range(len(str1))])\n",
    "cat"
   ]
  },
  {
   "cell_type": "markdown",
   "id": "ace4d33e-2783-457e-8842-91e7296ac8ba",
   "metadata": {},
   "source": [
    "## 03"
   ]
  },
  {
   "cell_type": "code",
   "execution_count": 22,
   "id": "ccf6819b-ce0c-40d6-9fea-8d57ffec5568",
   "metadata": {},
   "outputs": [
    {
     "data": {
      "text/plain": [
       "[3, 1, 4, 1, 6, 9, 2, 7, 5, 3, 5, 8, 9, 7, 9]"
      ]
     },
     "execution_count": 22,
     "metadata": {},
     "output_type": "execute_result"
    }
   ],
   "source": [
    "stc = \"Now I need a drink, alcoholic of course, after the heavy lectures involving quantum mechanics.\"\n",
    "stc = stc[:-1] #Dropping the \".\"\n",
    "stc_listed = stc.split(\" \")\n",
    "stc_len_listed = list(map(lambda x:len(x),stc_listed))\n",
    "stc_len_listed"
   ]
  },
  {
   "cell_type": "markdown",
   "id": "5ef29ac8-eaff-4a4b-a325-fa4652bcebb0",
   "metadata": {},
   "source": [
    "## 04"
   ]
  },
  {
   "cell_type": "code",
   "execution_count": 28,
   "id": "12d3579e-c9fe-4438-810d-f78511b4ed0f",
   "metadata": {},
   "outputs": [
    {
     "data": {
      "text/plain": [
       "{1: 'H',\n",
       " 2: 'He',\n",
       " 3: 'Li',\n",
       " 4: 'Be',\n",
       " 5: 'B',\n",
       " 6: 'C',\n",
       " 7: 'N',\n",
       " 8: 'O',\n",
       " 9: 'F',\n",
       " 10: 'Ne',\n",
       " 11: 'Na',\n",
       " 12: 'Mi',\n",
       " 13: 'Al',\n",
       " 14: 'Si',\n",
       " 15: 'P',\n",
       " 16: 'S',\n",
       " 17: 'Cl',\n",
       " 18: 'Ar',\n",
       " 19: 'Ki',\n",
       " 20: 'Ca'}"
      ]
     },
     "execution_count": 28,
     "metadata": {},
     "output_type": "execute_result"
    }
   ],
   "source": [
    "stc = \"Hi He Lied Because Boron Could Not Oxidize Fluorine. New Nations Might Also Sign Peace Security Clause. Arthur King Can.\"\n",
    "stc = stc[:-1] #Dropping the \".\"\n",
    "stc_listed = stc.split(\" \")\n",
    "res = {}\n",
    "idx_len1 = [1,5,6,7,8,9,15,16]\n",
    "for i in range(len(stc_listed)):\n",
    "    to_append = stc_listed[i][0] if i+1 in idx_len1 else stc_listed[i][:2]\n",
    "    res[i+1] = to_append\n",
    "res"
   ]
  },
  {
   "cell_type": "markdown",
   "id": "5e84ecff-aad8-44e4-aa50-7bdbe1f9955f",
   "metadata": {},
   "source": [
    "## 05"
   ]
  },
  {
   "cell_type": "code",
   "execution_count": 41,
   "id": "49e2333a-5f15-465d-9d36-6f95bd503f79",
   "metadata": {},
   "outputs": [],
   "source": [
    "def ngram(seq,n,letter=False):\n",
    "    \"\"\"\n",
    "    Create n-gram from given sequence.\n",
    "    \n",
    "    Params\n",
    "    ------\n",
    "    seq : str\n",
    "    n : int\n",
    "    word : bool\n",
    "        If word is True/False, returns word/letter n-grams.\n",
    "        \n",
    "    Returns\n",
    "    ------\n",
    "    a list of n-grams\n",
    "    \"\"\"\n",
    "    seq = seq.split(\" \")\n",
    "    \n",
    "    if letter:\n",
    "        seq = \"\".join(seq)\n",
    "        \n",
    "    \n",
    "    return [seq[i:i+n] for i in range(len(seq)-n+1)]"
   ]
  },
  {
   "cell_type": "code",
   "execution_count": null,
   "id": "1d66c4d8-4501-4c79-997d-5259584ed46e",
   "metadata": {},
   "outputs": [
    {
     "name": "stdout",
     "output_type": "stream",
     "text": [
      "Word bi-gram of seq:[['I', 'am'], ['am', 'an'], ['an', 'NLPer.']]\n",
      "Letter bi-gram of seq:['Ia', 'am', 'ma', 'an', 'nN', 'NL', 'LP', 'Pe', 'er', 'r.']\n"
     ]
    }
   ],
   "source": [
    "seq = \"I am an NLPer.\"\n",
    "print(f\"Word bi-gram of seq:{ngram(seq,2)}\")\n",
    "print(f\"Letter bi-gram of seq:{ngram(seq,2,letter=True)}\")"
   ]
  },
  {
   "cell_type": "markdown",
   "id": "555d2560-731e-4977-a140-040075157acf",
   "metadata": {},
   "source": [
    "## 06"
   ]
  },
  {
   "cell_type": "code",
   "execution_count": 56,
   "id": "11222025-0f49-4ade-b760-48ee03d3c33f",
   "metadata": {},
   "outputs": [
    {
     "name": "stdout",
     "output_type": "stream",
     "text": [
      "Union: {'ar', 'ra', 'ad', 'gr', 'is', 'ph', 'ap', 'se', 'pa', 'di', 'ag'}\n",
      "Product: {'ar', 'ra', 'ap', 'pa'}\n",
      "Difference {'ad', 'se', 'di', 'is'}\n",
      "\"se\" in X?: True\n",
      "\"se\" in Y?: False\n"
     ]
    }
   ],
   "source": [
    "seq1 = \"paraparaparadise\"\n",
    "seq2 = \"paragraph\"\n",
    "\n",
    "X = set(ngram(seq1,2,letter=True))\n",
    "Y = set(ngram(seq2,2,letter=True))\n",
    "\n",
    "X_or_Y = X | Y\n",
    "X_and_Y = X & Y\n",
    "X_min_Y = X-Y\n",
    "\n",
    "print(f\"Union: {X_or_Y}\")\n",
    "print(f\"Product: {X_and_Y}\")\n",
    "print(f\"Difference {X_min_Y}\")\n",
    "\n",
    "se_in_X = \"se\" in X\n",
    "se_in_Y = \"se\" in Y\n",
    "\n",
    "print(f'\"se\" in X?: {se_in_X}')\n",
    "print(f'\"se\" in Y?: {se_in_Y}')"
   ]
  },
  {
   "cell_type": "markdown",
   "id": "36d0393b-a247-478f-bf5a-47e9cd4aac71",
   "metadata": {},
   "source": [
    "## 07"
   ]
  },
  {
   "cell_type": "code",
   "execution_count": 58,
   "id": "c92a99a1-1a59-4c20-a054-df8fed152ffc",
   "metadata": {},
   "outputs": [
    {
     "data": {
      "text/plain": [
       "'12時の気温は22.4'"
      ]
     },
     "execution_count": 58,
     "metadata": {},
     "output_type": "execute_result"
    }
   ],
   "source": [
    "def template(x,y,z):\n",
    "    x = str(x)\n",
    "    y = str(y)\n",
    "    z = str(z)\n",
    "    return x+\"時の\"+y+\"は\"+z\n",
    "\n",
    "template(12,\"気温\",22.4)"
   ]
  },
  {
   "cell_type": "markdown",
   "id": "400c0ee7-6fe1-4b31-ad2c-eb6478711cbb",
   "metadata": {},
   "source": [
    "## 08"
   ]
  },
  {
   "cell_type": "code",
   "execution_count": 73,
   "id": "6ecae955-8d89-4c17-8739-7c026e2cee7e",
   "metadata": {},
   "outputs": [],
   "source": [
    "def cipher(string:str,encode=True):\n",
    "    ret = []\n",
    "    for char in list(string):\n",
    "        if char.islower():\n",
    "            if encode:\n",
    "                #Encoding\n",
    "                ret.append(chr(219-ord(char)))\n",
    "            else:\n",
    "                #Decoding\n",
    "                ret.append(chr(219-ord(char)))\n",
    "        else:\n",
    "            ret.append(char)\n",
    "    return \"\".join(ret)"
   ]
  },
  {
   "cell_type": "code",
   "execution_count": 75,
   "id": "694d6b22-3a3c-46b1-b560-51032d942562",
   "metadata": {},
   "outputs": [
    {
     "name": "stdout",
     "output_type": "stream",
     "text": [
      "Original: \"Apple\"\n",
      "Encoded: \"Akkov\"\n",
      "Decoded: \"Apple\"\n"
     ]
    }
   ],
   "source": [
    "encoded = cipher(\"Apple\")\n",
    "decoded = cipher(encoded,encode=False)\n",
    "print(f'Original: \"Apple\"')\n",
    "print(f'Encoded: \"{encoded}\"')\n",
    "print(f'Decoded: \"{decoded}\"')"
   ]
  },
  {
   "cell_type": "markdown",
   "id": "c688348b-b7c3-4238-90af-7bc7defe1ad2",
   "metadata": {},
   "source": [
    "## 09"
   ]
  },
  {
   "cell_type": "code",
   "execution_count": 94,
   "id": "4ff84c0f-b6a6-4aeb-b98d-bad739dac4bd",
   "metadata": {},
   "outputs": [],
   "source": [
    "import random\n",
    "\n",
    "def typoglycemia(string):\n",
    "    str_listed = string.split(\" \")\n",
    "    ret = []\n",
    "    for str_ in str_listed:\n",
    "        if len(str_) <= 4: #Validation\n",
    "            ret.append(str_)\n",
    "        else:\n",
    "            head = str_[0]\n",
    "            tail = str_[-1]\n",
    "            rest = list(str_[1:-1])\n",
    "            random.shuffle(rest)\n",
    "            rest.append(tail);rest.insert(0,head) #Better to use deque?\n",
    "            res_str = \"\".join(rest)\n",
    "            ret.append(res_str)\n",
    "    \n",
    "    return \" \".join(ret)\n",
    "            \n",
    "            \n",
    "            "
   ]
  },
  {
   "cell_type": "code",
   "execution_count": 100,
   "id": "a4607916-6c54-48c8-895e-875db6d9b225",
   "metadata": {},
   "outputs": [
    {
     "data": {
      "text/plain": [
       "'I cd’olunt bieelve that I cloud aautllcy usnnedartd what I was rndeiag : the penhnmeoal power of the haumn mind .'"
      ]
     },
     "execution_count": 100,
     "metadata": {},
     "output_type": "execute_result"
    }
   ],
   "source": [
    "string = \"I couldn’t believe that I could actually understand what I was reading : the phenomenal power of the human mind .\"\n",
    "typoglycemia(string)"
   ]
  }
 ],
 "metadata": {
  "kernelspec": {
   "display_name": "Python 3 (ipykernel)",
   "language": "python",
   "name": "python3"
  },
  "language_info": {
   "codemirror_mode": {
    "name": "ipython",
    "version": 3
   },
   "file_extension": ".py",
   "mimetype": "text/x-python",
   "name": "python",
   "nbconvert_exporter": "python",
   "pygments_lexer": "ipython3",
   "version": "3.8.1"
  }
 },
 "nbformat": 4,
 "nbformat_minor": 5
}
